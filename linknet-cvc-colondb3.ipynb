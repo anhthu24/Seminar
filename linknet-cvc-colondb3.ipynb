{
 "cells": [
  {
   "cell_type": "markdown",
   "id": "6e43d39b",
   "metadata": {
    "_cell_guid": "b1076dfc-b9ad-4769-8c92-a6c4dae69d19",
    "_uuid": "8f2839f25d086af736a60e9eeb907d3b93b6e0e5",
    "papermill": {
     "duration": 0.007607,
     "end_time": "2024-03-27T19:26:54.645293",
     "exception": false,
     "start_time": "2024-03-27T19:26:54.637686",
     "status": "completed"
    },
    "tags": []
   },
   "source": [
    "# Import thư viện"
   ]
  },
  {
   "cell_type": "code",
   "execution_count": 1,
   "id": "931341bb",
   "metadata": {
    "execution": {
     "iopub.execute_input": "2024-03-27T19:26:54.660827Z",
     "iopub.status.busy": "2024-03-27T19:26:54.660491Z",
     "iopub.status.idle": "2024-03-27T19:27:07.820635Z",
     "shell.execute_reply": "2024-03-27T19:27:07.819439Z"
    },
    "papermill": {
     "duration": 13.170253,
     "end_time": "2024-03-27T19:27:07.822799",
     "exception": false,
     "start_time": "2024-03-27T19:26:54.652546",
     "status": "completed"
    },
    "tags": []
   },
   "outputs": [
    {
     "name": "stdout",
     "output_type": "stream",
     "text": [
      "Requirement already satisfied: torchmetrics in /opt/conda/lib/python3.10/site-packages (1.3.2)\r\n",
      "Requirement already satisfied: numpy>1.20.0 in /opt/conda/lib/python3.10/site-packages (from torchmetrics) (1.26.4)\r\n",
      "Requirement already satisfied: packaging>17.1 in /opt/conda/lib/python3.10/site-packages (from torchmetrics) (21.3)\r\n",
      "Requirement already satisfied: torch>=1.10.0 in /opt/conda/lib/python3.10/site-packages (from torchmetrics) (2.1.2)\r\n",
      "Requirement already satisfied: lightning-utilities>=0.8.0 in /opt/conda/lib/python3.10/site-packages (from torchmetrics) (0.10.1)\r\n",
      "Requirement already satisfied: setuptools in /opt/conda/lib/python3.10/site-packages (from lightning-utilities>=0.8.0->torchmetrics) (69.0.3)\r\n",
      "Requirement already satisfied: typing-extensions in /opt/conda/lib/python3.10/site-packages (from lightning-utilities>=0.8.0->torchmetrics) (4.9.0)\r\n",
      "Requirement already satisfied: pyparsing!=3.0.5,>=2.0.2 in /opt/conda/lib/python3.10/site-packages (from packaging>17.1->torchmetrics) (3.1.1)\r\n",
      "Requirement already satisfied: filelock in /opt/conda/lib/python3.10/site-packages (from torch>=1.10.0->torchmetrics) (3.13.1)\r\n",
      "Requirement already satisfied: sympy in /opt/conda/lib/python3.10/site-packages (from torch>=1.10.0->torchmetrics) (1.12)\r\n",
      "Requirement already satisfied: networkx in /opt/conda/lib/python3.10/site-packages (from torch>=1.10.0->torchmetrics) (3.2.1)\r\n",
      "Requirement already satisfied: jinja2 in /opt/conda/lib/python3.10/site-packages (from torch>=1.10.0->torchmetrics) (3.1.2)\r\n",
      "Requirement already satisfied: fsspec in /opt/conda/lib/python3.10/site-packages (from torch>=1.10.0->torchmetrics) (2024.3.0)\r\n",
      "Requirement already satisfied: MarkupSafe>=2.0 in /opt/conda/lib/python3.10/site-packages (from jinja2->torch>=1.10.0->torchmetrics) (2.1.3)\r\n",
      "Requirement already satisfied: mpmath>=0.19 in /opt/conda/lib/python3.10/site-packages (from sympy->torch>=1.10.0->torchmetrics) (1.3.0)\r\n",
      "Note: you may need to restart the kernel to use updated packages.\n"
     ]
    }
   ],
   "source": [
    "pip install torchmetrics"
   ]
  },
  {
   "cell_type": "code",
   "execution_count": 2,
   "id": "5295cd72",
   "metadata": {
    "execution": {
     "iopub.execute_input": "2024-03-27T19:27:07.840241Z",
     "iopub.status.busy": "2024-03-27T19:27:07.839676Z",
     "iopub.status.idle": "2024-03-27T19:27:17.618233Z",
     "shell.execute_reply": "2024-03-27T19:27:17.617473Z"
    },
    "papermill": {
     "duration": 9.789636,
     "end_time": "2024-03-27T19:27:17.620422",
     "exception": false,
     "start_time": "2024-03-27T19:27:07.830786",
     "status": "completed"
    },
    "tags": []
   },
   "outputs": [],
   "source": [
    "import torch\n",
    "import torch.nn as nn\n",
    "import torch.optim as optim\n",
    "from torch.utils.data import DataLoader, Dataset\n",
    "from torchvision import transforms\n",
    "from torchmetrics import ConfusionMatrix\n",
    "import matplotlib.pyplot as plt\n",
    "import os\n",
    "from PIL import Image\n",
    "import torch.nn.functional as F\n",
    "import time\n",
    "import shutil\n",
    "import glob\n",
    "import random\n",
    "from sklearn.model_selection import train_test_split\n",
    "from tqdm import tqdm\n",
    "import numpy as np\n",
    "from tqdm import tqdm"
   ]
  },
  {
   "cell_type": "markdown",
   "id": "e4c850a9",
   "metadata": {
    "papermill": {
     "duration": 0.007355,
     "end_time": "2024-03-27T19:27:17.635746",
     "exception": false,
     "start_time": "2024-03-27T19:27:17.628391",
     "status": "completed"
    },
    "tags": []
   },
   "source": [
    "# Định nghĩa Model Linknet, ConvBlock, UpConvBlock"
   ]
  },
  {
   "cell_type": "code",
   "execution_count": 3,
   "id": "1d7c2049",
   "metadata": {
    "execution": {
     "iopub.execute_input": "2024-03-27T19:27:17.652559Z",
     "iopub.status.busy": "2024-03-27T19:27:17.652140Z",
     "iopub.status.idle": "2024-03-27T19:27:17.668430Z",
     "shell.execute_reply": "2024-03-27T19:27:17.667636Z"
    },
    "papermill": {
     "duration": 0.027003,
     "end_time": "2024-03-27T19:27:17.670255",
     "exception": false,
     "start_time": "2024-03-27T19:27:17.643252",
     "status": "completed"
    },
    "tags": []
   },
   "outputs": [],
   "source": [
    "class ConvBlock(nn.Module):\n",
    "    def __init__(self, in_channels, out_channels):\n",
    "        super(ConvBlock, self).__init__()\n",
    "        self.conv1 = nn.Conv2d(in_channels, out_channels, kernel_size=3, padding=1)\n",
    "        self.bn1 = nn.BatchNorm2d(out_channels)\n",
    "        self.relu = nn.ReLU(inplace=True)\n",
    "        self.conv2 = nn.Conv2d(out_channels, out_channels, kernel_size=3, padding=1)\n",
    "        self.bn2 = nn.BatchNorm2d(out_channels)\n",
    "        self.downsample = nn.Conv2d(in_channels, out_channels, kernel_size=1, padding=0)\n",
    "        self.downsample_bn = nn.BatchNorm2d(out_channels)\n",
    "\n",
    "    def forward(self, x):\n",
    "        residual = x\n",
    "\n",
    "        out = self.conv1(x)\n",
    "        out = self.bn1(out)\n",
    "        out = self.relu(out)\n",
    "\n",
    "        out = self.conv2(out)\n",
    "        out = self.bn2(out)\n",
    "\n",
    "        residual = self.downsample(x)\n",
    "        residual = self.downsample_bn(residual)\n",
    "\n",
    "        out += residual\n",
    "        out = self.relu(out)\n",
    "\n",
    "        return out\n",
    "\n",
    "class UpConvBlock(nn.Module):\n",
    "    def __init__(self, in_channels, out_channels):\n",
    "        super(UpConvBlock, self).__init__()\n",
    "        self.upconv = nn.ConvTranspose2d(in_channels, out_channels, kernel_size=2, stride=2)\n",
    "        self.conv_block = ConvBlock(in_channels, out_channels)\n",
    "\n",
    "    def forward(self, x, skip_connection):\n",
    "        x = self.upconv(x)\n",
    "\n",
    "        diffY = skip_connection.size()[2] - x.size()[2]\n",
    "        diffX = skip_connection.size()[3] - x.size()[3]\n",
    "        x = F.pad(x, (diffX // 2, diffX - diffX // 2, diffY // 2, diffY - diffY // 2))\n",
    "\n",
    "        x = torch.cat([x, skip_connection], dim=1)\n",
    "        x = self.conv_block(x)\n",
    "\n",
    "        return x\n",
    "\n",
    "class LinkNet(nn.Module):\n",
    "    def __init__(self, in_channels=3, num_classes=1):  # 3 input channels for RGB images, 1 output class for polyp segmentation\n",
    "        super(LinkNet, self).__init__()\n",
    "        self.encoder_block1 = ConvBlock(in_channels, 64)\n",
    "        self.encoder_block2 = ConvBlock(64, 128)\n",
    "        self.encoder_block3 = ConvBlock(128, 256)\n",
    "        self.decoder_block1 = UpConvBlock(256, 128)\n",
    "        self.decoder_block2 = UpConvBlock(128, 64)\n",
    "        self.final_conv = nn.Conv2d(64, num_classes, kernel_size=1)  # Chỉ có một kênh đầu ra\n",
    "\n",
    "\n",
    "    def forward(self, x):\n",
    "        enc1 = self.encoder_block1(x)\n",
    "        enc2 = self.encoder_block2(enc1)\n",
    "        enc3 = self.encoder_block3(enc2)\n",
    "\n",
    "        dec1 = self.decoder_block1(enc3, enc2)\n",
    "        dec2 = self.decoder_block2(dec1, enc1)\n",
    "\n",
    "        out = self.final_conv(dec2)\n",
    "\n",
    "        return out"
   ]
  },
  {
   "cell_type": "markdown",
   "id": "bc2f3163",
   "metadata": {
    "papermill": {
     "duration": 0.00723,
     "end_time": "2024-03-27T19:27:17.684963",
     "exception": false,
     "start_time": "2024-03-27T19:27:17.677733",
     "status": "completed"
    },
    "tags": []
   },
   "source": [
    "# Gộp thư mục images và masks "
   ]
  },
  {
   "cell_type": "code",
   "execution_count": 4,
   "id": "6bde99e5",
   "metadata": {
    "execution": {
     "iopub.execute_input": "2024-03-27T19:27:17.701112Z",
     "iopub.status.busy": "2024-03-27T19:27:17.700849Z",
     "iopub.status.idle": "2024-03-27T19:27:22.225810Z",
     "shell.execute_reply": "2024-03-27T19:27:22.225007Z"
    },
    "papermill": {
     "duration": 4.535542,
     "end_time": "2024-03-27T19:27:22.228059",
     "exception": false,
     "start_time": "2024-03-27T19:27:17.692517",
     "status": "completed"
    },
    "tags": []
   },
   "outputs": [],
   "source": [
    "def merge_images_and_masks(image_folder, mask_folder, output_folder):\n",
    "    # Tạo thư mục đầu ra nếu chưa tồn tại\n",
    "    if not os.path.exists(output_folder):\n",
    "        os.makedirs(output_folder)\n",
    "\n",
    "    # Lấy danh sách tất cả các hình ảnh và mặt nạ\n",
    "    image_files = sorted(glob.glob(os.path.join(image_folder, '*.png')))  # Thay '*.jpg' bằng đuôi file của hình ảnh của bạn\n",
    "    mask_files = sorted(glob.glob(os.path.join(mask_folder, '*.png')))     # Thay '*.png' bằng đuôi file của mặt nạ của bạn\n",
    "\n",
    "    # Kiểm tra xem số lượng hình ảnh và mặt nạ có khớp nhau không\n",
    "    if len(image_files) != len(mask_files):\n",
    "        print(\"Số lượng hình ảnh và mặt nạ không khớp!\")\n",
    "        return\n",
    "\n",
    "    # Gộp các hình ảnh và mặt nạ theo thứ tự số thứ tự của hình ảnh\n",
    "    for img_file, mask_file in zip(image_files, mask_files):\n",
    "        img_name = os.path.basename(img_file)\n",
    "        mask_name = os.path.basename(mask_file)\n",
    "\n",
    "        # Tạo tên mới cho hình ảnh và mặt nạ gộp\n",
    "        new_img_name = img_name.split('.')[0] + '_merged.png'\n",
    "        new_mask_name = mask_name.split('.')[0] + '_merged.png'\n",
    "\n",
    "        # Đường dẫn đến hình ảnh và mặt nạ gộp\n",
    "        new_img_path = os.path.join(output_folder, new_img_name)\n",
    "        new_mask_path = os.path.join(output_folder, new_mask_name)\n",
    "\n",
    "        # Sao chép hình ảnh và mặt nạ vào thư mục đầu ra\n",
    "        shutil.copyfile(img_file, new_img_path)\n",
    "        shutil.copyfile(mask_file, new_mask_path)\n",
    "\n",
    "# Sử dụng hàm merge_images_and_masks với các thư mục cụ thể\n",
    "image_folder = '/kaggle/input/linknet-cvc/images'  # Thay 'path/to/image/folder' bằng đường dẫn đến thư mục hình ảnh của bạn\n",
    "mask_folder = '/kaggle/input/linknet-cvc/masks'     # Thay 'path/to/mask/folder' bằng đường dẫn đến thư mục mặt nạ của bạn\n",
    "output_folder = '/kaggle/working/output' # Thay 'path/to/output/folder' bằng đường dẫn đến thư mục đầu ra bạn muốn lưu trữ\n",
    "\n",
    "merge_images_and_masks(image_folder, mask_folder, output_folder)"
   ]
  },
  {
   "cell_type": "markdown",
   "id": "cbd75c06",
   "metadata": {
    "papermill": {
     "duration": 0.008441,
     "end_time": "2024-03-27T19:27:22.244304",
     "exception": false,
     "start_time": "2024-03-27T19:27:22.235863",
     "status": "completed"
    },
    "tags": []
   },
   "source": [
    "# Chia thành 2 tập train và test từ folder output"
   ]
  },
  {
   "cell_type": "code",
   "execution_count": 5,
   "id": "8ded1b5e",
   "metadata": {
    "execution": {
     "iopub.execute_input": "2024-03-27T19:27:22.260405Z",
     "iopub.status.busy": "2024-03-27T19:27:22.260090Z",
     "iopub.status.idle": "2024-03-27T19:27:22.299798Z",
     "shell.execute_reply": "2024-03-27T19:27:22.299143Z"
    },
    "papermill": {
     "duration": 0.049848,
     "end_time": "2024-03-27T19:27:22.301587",
     "exception": false,
     "start_time": "2024-03-27T19:27:22.251739",
     "status": "completed"
    },
    "tags": []
   },
   "outputs": [],
   "source": [
    "def split_train_test_data(input_folder, train_folder, test_folder, split_ratio=0.8):\n",
    "    # Tạo thư mục huấn luyện và kiểm tra nếu chưa tồn tại\n",
    "    if not os.path.exists(train_folder):\n",
    "        os.makedirs(train_folder)\n",
    "    if not os.path.exists(test_folder):\n",
    "        os.makedirs(test_folder)\n",
    "\n",
    "    # Lấy danh sách tất cả các tệp trong thư mục đầu vào\n",
    "    files = os.listdir(input_folder)\n",
    "    num_files = len(files)\n",
    "\n",
    "    # Xáo trộn danh sách các tệp\n",
    "    random.shuffle(files)\n",
    "\n",
    "    # Tính toán số lượng tệp trong tập huấn luyện\n",
    "    num_train_files = int(num_files * split_ratio)\n",
    "\n",
    "    # Sao chép các tệp vào thư mục huấn luyện và kiểm tra\n",
    "    for i, file in enumerate(files):\n",
    "        if i < num_train_files:\n",
    "            shutil.copyfile(os.path.join(input_folder, file), os.path.join(train_folder, file))\n",
    "        else:\n",
    "            shutil.copyfile(os.path.join(input_folder, file), os.path.join(test_folder, file))\n",
    "\n",
    "# Đường dẫn tới thư mục chứa dữ liệu đầu ra\n",
    "output_folder = '/kaggle/working/output'\n",
    "\n",
    "# Đường dẫn tới thư mục huấn luyện và kiểm tra\n",
    "train_folder = '/kaggle/working/train'\n",
    "test_folder = '/kaggle/working/test'\n",
    "\n",
    "# Tỉ lệ chia tập huấn luyện và kiểm tra\n",
    "split_ratio = 0.8\n",
    "\n",
    "# Chia dữ liệu thành tập huấn luyện và tập kiểm tra\n",
    "split_train_test_data(output_folder, train_folder, test_folder, split_ratio)\n"
   ]
  },
  {
   "cell_type": "markdown",
   "id": "d49e7b51",
   "metadata": {
    "papermill": {
     "duration": 0.007357,
     "end_time": "2024-03-27T19:27:22.316440",
     "exception": false,
     "start_time": "2024-03-27T19:27:22.309083",
     "status": "completed"
    },
    "tags": []
   },
   "source": [
    "# Đếm số lượng tập train và tập test"
   ]
  },
  {
   "cell_type": "code",
   "execution_count": 6,
   "id": "54627413",
   "metadata": {
    "execution": {
     "iopub.execute_input": "2024-03-27T19:27:22.332778Z",
     "iopub.status.busy": "2024-03-27T19:27:22.332256Z",
     "iopub.status.idle": "2024-03-27T19:27:22.339176Z",
     "shell.execute_reply": "2024-03-27T19:27:22.338127Z"
    },
    "papermill": {
     "duration": 0.017132,
     "end_time": "2024-03-27T19:27:22.340992",
     "exception": false,
     "start_time": "2024-03-27T19:27:22.323860",
     "status": "completed"
    },
    "tags": []
   },
   "outputs": [
    {
     "name": "stdout",
     "output_type": "stream",
     "text": [
      "Số lượng tệp trong tập huấn luyện: 304\n",
      "Số lượng tệp trong tập kiểm tra: 76\n"
     ]
    }
   ],
   "source": [
    "def count_files_in_folder(folder_path):\n",
    "    # Lấy danh sách tệp trong thư mục\n",
    "    files = os.listdir(folder_path)\n",
    "    # Đếm số lượng tệp\n",
    "    num_files = len(files)\n",
    "    return num_files\n",
    "\n",
    "# Đường dẫn tới thư mục huấn luyện và kiểm tra\n",
    "train_folder = '/kaggle/working/train'\n",
    "test_folder = '/kaggle/working/test'\n",
    "\n",
    "# Đếm số lượng tệp trong tập huấn luyện và tập kiểm tra\n",
    "num_train_files = count_files_in_folder(train_folder)\n",
    "num_test_files = count_files_in_folder(test_folder)\n",
    "\n",
    "print(\"Số lượng tệp trong tập huấn luyện:\", num_train_files)\n",
    "print(\"Số lượng tệp trong tập kiểm tra:\", num_test_files)"
   ]
  },
  {
   "cell_type": "code",
   "execution_count": 7,
   "id": "2030f767",
   "metadata": {
    "execution": {
     "iopub.execute_input": "2024-03-27T19:27:22.357248Z",
     "iopub.status.busy": "2024-03-27T19:27:22.357008Z",
     "iopub.status.idle": "2024-03-27T19:27:23.358907Z",
     "shell.execute_reply": "2024-03-27T19:27:23.357938Z"
    },
    "papermill": {
     "duration": 1.012391,
     "end_time": "2024-03-27T19:27:23.361045",
     "exception": false,
     "start_time": "2024-03-27T19:27:22.348654",
     "status": "completed"
    },
    "tags": []
   },
   "outputs": [
    {
     "data": {
      "image/png": "[encoded data removed]",
      "text/plain": [
       "<Figure size 640x480 with 10 Axes>"
      ]
     },
     "metadata": {},
     "output_type": "display_data"
    }
   ],
   "source": [
    "import os\n",
    "import matplotlib.pyplot as plt\n",
    "import matplotlib.image as mpimg\n",
    "\n",
    "def display_images(image_folder, mask_folder, num_images=3):\n",
    "    # Lấy danh sách tệp hình ảnh và mặt nạ\n",
    "    image_files = os.listdir(image_folder)[:num_images]\n",
    "    mask_files = os.listdir(mask_folder)[:num_images]\n",
    "\n",
    "    # Hiển thị hình ảnh và mặt nạ tương ứng\n",
    "    for i in range(num_images):\n",
    "        # Đọc và hiển thị hình ảnh\n",
    "        image_path = os.path.join(image_folder, image_files[i])\n",
    "        image = mpimg.imread(image_path)\n",
    "        plt.subplot(2, num_images, i + 1)\n",
    "        plt.imshow(image)\n",
    "        plt.axis('off')\n",
    "        plt.title('Image ' + str(i+1))\n",
    "\n",
    "        # Đọc và hiển thị mặt nạ\n",
    "        mask_path = os.path.join(mask_folder, mask_files[i])\n",
    "        mask = mpimg.imread(mask_path)\n",
    "        plt.subplot(2, num_images, num_images + i + 1)\n",
    "        plt.imshow(mask)\n",
    "        plt.axis('off')\n",
    "        plt.title('Mask ' + str(i+1))\n",
    "\n",
    "    plt.show()\n",
    "\n",
    "# Đường dẫn tới thư mục chứa hình ảnh và mặt nạ\n",
    "image_folder = '/kaggle/input/linknet-cvc/images'  # Thay đổi đường dẫn tương ứng\n",
    "mask_folder = '/kaggle/input/linknet-cvc/masks'   # Thay đổi đường dẫn tương ứng\n",
    "\n",
    "# Số lượng hình ảnh bạn muốn hiển thị\n",
    "num_images = 5\n",
    "\n",
    "# Hiển thị hình ảnh và mặt nạ từ tập dữ liệu\n",
    "display_images(image_folder, mask_folder, num_images)\n"
   ]
  },
  {
   "cell_type": "markdown",
   "id": "ea53309a",
   "metadata": {
    "papermill": {
     "duration": 0.009803,
     "end_time": "2024-03-27T19:27:23.380672",
     "exception": false,
     "start_time": "2024-03-27T19:27:23.370869",
     "status": "completed"
    },
    "tags": []
   },
   "source": [
    "# Custom Dataset"
   ]
  },
  {
   "cell_type": "code",
   "execution_count": 8,
   "id": "6121bf66",
   "metadata": {
    "execution": {
     "iopub.execute_input": "2024-03-27T19:27:23.399542Z",
     "iopub.status.busy": "2024-03-27T19:27:23.399195Z",
     "iopub.status.idle": "2024-03-27T19:27:23.408616Z",
     "shell.execute_reply": "2024-03-27T19:27:23.407685Z"
    },
    "papermill": {
     "duration": 0.020881,
     "end_time": "2024-03-27T19:27:23.410554",
     "exception": false,
     "start_time": "2024-03-27T19:27:23.389673",
     "status": "completed"
    },
    "tags": []
   },
   "outputs": [],
   "source": [
    "class CustomDataset(Dataset):\n",
    "    def __init__(self, folder_path, transform=None):\n",
    "        self.folder_path = folder_path\n",
    "        self.transform = transform\n",
    "        self.images = os.listdir(folder_path)\n",
    "\n",
    "    def __len__(self):\n",
    "        return len(self.images)\n",
    "\n",
    "    def __getitem__(self, idx):\n",
    "        image_name = os.path.join(self.folder_path, self.images[idx])\n",
    "        image = Image.open(image_name).convert('RGB')\n",
    "\n",
    "        if self.transform:\n",
    "            image = self.transform(image)\n",
    "\n",
    "        # Load label image\n",
    "        label_name = self.images[idx].split('_')[0] + '_merged.png'  # Assuming label image name follows the pattern\n",
    "        label_path = os.path.join(self.folder_path, label_name)\n",
    "        label = Image.open(label_path).convert('L')  # Convert to grayscale\n",
    "\n",
    "        # Resize label to match the output size of the model\n",
    "        label_resized = label.resize((256, 256), Image.NEAREST)\n",
    "\n",
    "        # Convert label to tensor\n",
    "        label_tensor = transforms.ToTensor()(label_resized)\n",
    "        \n",
    "        # Ensure label tensor has only one channel\n",
    "        if label_tensor.ndim == 2:\n",
    "            label_tensor = label_tensor.unsqueeze(0)\n",
    "\n",
    "        return image, label_tensor.float()"
   ]
  },
  {
   "cell_type": "markdown",
   "id": "7b034a3d",
   "metadata": {
    "papermill": {
     "duration": 0.008247,
     "end_time": "2024-03-27T19:27:23.427697",
     "exception": false,
     "start_time": "2024-03-27T19:27:23.419450",
     "status": "completed"
    },
    "tags": []
   },
   "source": [
    "# Early Stopping"
   ]
  },
  {
   "cell_type": "code",
   "execution_count": 9,
   "id": "92f09f5b",
   "metadata": {
    "execution": {
     "iopub.execute_input": "2024-03-27T19:27:23.445658Z",
     "iopub.status.busy": "2024-03-27T19:27:23.445383Z",
     "iopub.status.idle": "2024-03-27T19:27:23.451145Z",
     "shell.execute_reply": "2024-03-27T19:27:23.450319Z"
    },
    "papermill": {
     "duration": 0.016715,
     "end_time": "2024-03-27T19:27:23.452967",
     "exception": false,
     "start_time": "2024-03-27T19:27:23.436252",
     "status": "completed"
    },
    "tags": []
   },
   "outputs": [],
   "source": [
    "# early stopping\n",
    "class EarlyStopping():\n",
    "    def __init__(self, tolerance=5, min_delta=0):\n",
    "\n",
    "        self.tolerance = tolerance\n",
    "        self.min_delta = min_delta\n",
    "        self.counter = 0\n",
    "        self.early_stop = False\n",
    "\n",
    "    def __call__(self, train_loss, validation_loss):\n",
    "        if (validation_loss - train_loss) > self.min_delta:\n",
    "            self.counter +=1\n",
    "            if self.counter >= self.tolerance:  \n",
    "                self.early_stop = True\n"
   ]
  },
  {
   "cell_type": "markdown",
   "id": "cc97ecb5",
   "metadata": {
    "papermill": {
     "duration": 0.008395,
     "end_time": "2024-03-27T19:27:23.469843",
     "exception": false,
     "start_time": "2024-03-27T19:27:23.461448",
     "status": "completed"
    },
    "tags": []
   },
   "source": [
    "# Compute IOU\n"
   ]
  },
  {
   "cell_type": "code",
   "execution_count": 10,
   "id": "c17682c4",
   "metadata": {
    "execution": {
     "iopub.execute_input": "2024-03-27T19:27:23.488286Z",
     "iopub.status.busy": "2024-03-27T19:27:23.488016Z",
     "iopub.status.idle": "2024-03-27T19:27:23.496068Z",
     "shell.execute_reply": "2024-03-27T19:27:23.495222Z"
    },
    "papermill": {
     "duration": 0.019304,
     "end_time": "2024-03-27T19:27:23.497820",
     "exception": false,
     "start_time": "2024-03-27T19:27:23.478516",
     "status": "completed"
    },
    "tags": []
   },
   "outputs": [],
   "source": [
    "# import torch\n",
    "\n",
    "# def compute_iou(outputs, targets, threshold=0.5):\n",
    "#     # Chuyển đổi đầu ra sang dạng nhị phân dựa trên ngưỡng\n",
    "#     outputs = (outputs[:, 0, :, :] > threshold).float()  # Giữ lại kênh đầu tiên\n",
    "    \n",
    "#     # Tính toán intersection và union\n",
    "#     intersection = torch.sum(outputs * targets)\n",
    "#     union = torch.sum(outputs) + torch.sum(targets) - intersection\n",
    "    \n",
    "#     # Tính toán IoU\n",
    "#     iou = (intersection + 1e-6) / (union + 1e-6)\n",
    "#     return iou.item()\n",
    "\n",
    "# def dice_coef_metric(outputs, targets, smooth=1e-6):\n",
    "#     # Chỉ lấy kênh đầu tiên của outputs\n",
    "#     outputs = outputs[:, 0, :, :]\n",
    "    \n",
    "#     # Tính toán intersection và union\n",
    "#     intersection = torch.sum(outputs * targets)\n",
    "#     union = torch.sum(outputs) + torch.sum(targets)\n",
    "    \n",
    "#     # Tính toán Dice coefficient\n",
    "#     dice = (2. * intersection + smooth) / (union + smooth)\n",
    "    \n",
    "#     # Giới hạn giá trị của dice trong khoảng [0, 1]\n",
    "#     dice = torch.clamp(dice, 0, 1)\n",
    "    \n",
    "#     return dice.item()\n",
    "\n",
    "\n",
    "# Hàm tính toán IoU (Intersection over Union)\n",
    "def compute_iou(outputs, targets, threshold=0.5):\n",
    "    # Chuyển đổi đầu ra và mục tiêu sang dạng nhị phân dựa trên ngưỡng\n",
    "    outputs = (outputs > threshold).float()\n",
    "    targets = (targets > 0.5).float()  # Đảm bảo targets cũng được chuyển đổi\n",
    "    \n",
    "    # Tính toán intersection và union\n",
    "    intersection = torch.sum(outputs * targets)\n",
    "    union = torch.sum(outputs) + torch.sum(targets) - intersection\n",
    "    \n",
    "    # Tính toán IoU\n",
    "    iou = (intersection + 1e-6) / (union + 1e-6)\n",
    "    return iou.item()\n",
    "\n",
    "\n",
    "# Hàm tính toán Dice coefficient\n",
    "def dice_coef_metric(outputs, targets, smooth=1e-6):\n",
    "    # Tính toán intersection và union\n",
    "    intersection = torch.sum(outputs * targets)\n",
    "    union = torch.sum(outputs) + torch.sum(targets)\n",
    "    \n",
    "    # Tính toán Dice coefficient\n",
    "    dice = (2. * intersection + smooth) / (union + smooth)\n",
    "    \n",
    "    # Giới hạn giá trị của dice trong khoảng [0, 1]\n",
    "    dice = torch.clamp(dice, 0, 1)\n",
    "    \n",
    "    return dice.item()"
   ]
  },
  {
   "cell_type": "code",
   "execution_count": 11,
   "id": "ffea714e",
   "metadata": {
    "execution": {
     "iopub.execute_input": "2024-03-27T19:27:23.515882Z",
     "iopub.status.busy": "2024-03-27T19:27:23.515543Z",
     "iopub.status.idle": "2024-03-27T19:27:23.526845Z",
     "shell.execute_reply": "2024-03-27T19:27:23.525800Z"
    },
    "papermill": {
     "duration": 0.022485,
     "end_time": "2024-03-27T19:27:23.528695",
     "exception": false,
     "start_time": "2024-03-27T19:27:23.506210",
     "status": "completed"
    },
    "tags": []
   },
   "outputs": [
    {
     "name": "stdout",
     "output_type": "stream",
     "text": [
      "Thư mục validation đã được tạo.\n",
      "60 tệp đã được di chuyển từ thư mục huấn luyện sang thư mục validation.\n"
     ]
    }
   ],
   "source": [
    "import os\n",
    "\n",
    "def create_validation_folder(validation_folder):\n",
    "    # Kiểm tra nếu thư mục validation chưa tồn tại\n",
    "    if not os.path.exists(validation_folder):\n",
    "        # Tạo thư mục validation\n",
    "        os.makedirs(validation_folder)\n",
    "        print(\"Thư mục validation đã được tạo.\")\n",
    "    else:\n",
    "        print(\"Thư mục validation đã tồn tại.\")\n",
    "\n",
    "# Đường dẫn đến thư mục validation\n",
    "validation_folder = '/kaggle/working/validation'\n",
    "\n",
    "# Gọi hàm để tạo thư mục validation\n",
    "create_validation_folder(validation_folder)\n",
    "\n",
    "import os\n",
    "import shutil\n",
    "import random\n",
    "\n",
    "def move_data_to_validation(train_folder, validation_folder, validation_ratio):\n",
    "    # Lấy danh sách tất cả các tệp trong thư mục huấn luyện\n",
    "    all_files = os.listdir(train_folder)\n",
    "    \n",
    "    # Tính toán số lượng tệp cần di chuyển dựa trên tỷ lệ phần trăm\n",
    "    num_files_to_move = int(len(all_files) * validation_ratio)\n",
    "    \n",
    "    # Chọn ngẫu nhiên các tệp để di chuyển sang thư mục validation\n",
    "    files_to_move = random.sample(all_files, num_files_to_move)\n",
    "    \n",
    "    # Di chuyển các tệp sang thư mục validation\n",
    "    for file_name in files_to_move:\n",
    "        src = os.path.join(train_folder, file_name)\n",
    "        dst = os.path.join(validation_folder, file_name)\n",
    "        shutil.move(src, dst)\n",
    "    \n",
    "    print(f\"{num_files_to_move} tệp đã được di chuyển từ thư mục huấn luyện sang thư mục validation.\")\n",
    "\n",
    "# Đường dẫn đến thư mục huấn luyện và thư mục validation\n",
    "train_folder = '/kaggle/working/train'\n",
    "validation_folder = '/kaggle/working/validation'\n",
    "\n",
    "# Tỉ lệ phần trăm dữ liệu bạn muốn di chuyển sang thư mục validation (ví dụ: 0.2 cho 20%)\n",
    "validation_ratio = 0.2\n",
    "\n",
    "# Gọi hàm để di chuyển dữ liệu từ thư mục huấn luyện sang thư mục validation\n",
    "move_data_to_validation(train_folder, validation_folder, validation_ratio)\n"
   ]
  },
  {
   "cell_type": "markdown",
   "id": "2627d5ac",
   "metadata": {
    "papermill": {
     "duration": 0.008334,
     "end_time": "2024-03-27T19:27:23.545670",
     "exception": false,
     "start_time": "2024-03-27T19:27:23.537336",
     "status": "completed"
    },
    "tags": []
   },
   "source": [
    "# Train model"
   ]
  },
  {
   "cell_type": "code",
   "execution_count": 12,
   "id": "cde400e5",
   "metadata": {
    "execution": {
     "iopub.execute_input": "2024-03-27T19:27:23.564261Z",
     "iopub.status.busy": "2024-03-27T19:27:23.564010Z",
     "iopub.status.idle": "2024-03-27T19:27:23.571621Z",
     "shell.execute_reply": "2024-03-27T19:27:23.570806Z"
    },
    "papermill": {
     "duration": 0.019097,
     "end_time": "2024-03-27T19:27:23.573559",
     "exception": false,
     "start_time": "2024-03-27T19:27:23.554462",
     "status": "completed"
    },
    "tags": []
   },
   "outputs": [],
   "source": [
    "# import torch\n",
    "# from torch.utils.data import DataLoader\n",
    "# import torch.nn as nn\n",
    "# import torchvision.transforms as transforms\n",
    "# import os\n",
    "# import shutil\n",
    "# from tqdm import tqdm\n",
    "\n",
    "# # Chọn thiết bị để huấn luyện mô hình (GPU nếu có, nếu không sử dụng CPU)\n",
    "# device = torch.device(\"cuda\" if torch.cuda.is_available() else \"cpu\")\n",
    "\n",
    "# # Hàm kiểm tra dữ liệu đầu vào\n",
    "# def check_input_data(data, target):\n",
    "#     print(\"Checking input data:\")\n",
    "#     print(\"Data shape:\", data.shape)\n",
    "#     print(\"Target shape:\", target.shape)\n",
    "\n",
    "# def train_model(model, train_loader, val_loader, optimizer, num_epochs):\n",
    "#     train_losses = []\n",
    "#     val_losses = []\n",
    "#     train_ious = []\n",
    "#     val_ious = []\n",
    "#     train_dices = []\n",
    "#     val_dices = []\n",
    "\n",
    "#     criterion = nn.BCEWithLogitsLoss()  # Sử dụng hàm loss theo binary cross entropy\n",
    "\n",
    "#     for epoch in range(num_epochs):\n",
    "#         model.train()\n",
    "#         train_loss = 0.0\n",
    "#         train_iou = 0.0\n",
    "#         train_dice = 0.0\n",
    "\n",
    "#         for batch_idx, (data, target) in enumerate(tqdm(train_loader, desc=f'Epoch {epoch+1}/{num_epochs}', leave=False)):\n",
    "#             data, target = data.to(device), target.to(device)\n",
    "#             optimizer.zero_grad()\n",
    "#             outputs = model(data)\n",
    "            \n",
    "#             target = target.unsqueeze(1) \n",
    "            \n",
    "#             loss = criterion(outputs, target)\n",
    "#             train_loss += loss.item() * data.size(0)\n",
    "            \n",
    "#             # Tính toán IoU và Dice coefficient\n",
    "#             iou = compute_iou(outputs, target)\n",
    "#             dice = dice_coef_metric(outputs, target)\n",
    "#             train_iou += iou\n",
    "#             train_dice += dice\n",
    "            \n",
    "#             loss.backward()\n",
    "#             optimizer.step()\n",
    "\n",
    "#         train_loss /= len(train_loader.dataset)\n",
    "#         train_iou /= len(train_loader)\n",
    "#         train_dice /= len(train_loader)\n",
    "#         train_losses.append(train_loss)\n",
    "#         train_ious.append(train_iou)\n",
    "#         train_dices.append(train_dice)\n",
    "\n",
    "#         val_loss, val_iou, val_dice = evaluate_model(model, val_loader, criterion)\n",
    "#         val_losses.append(val_loss)\n",
    "#         val_ious.append(val_iou)\n",
    "#         val_dices.append(val_dice)\n",
    "\n",
    "#         print(f\"Epoch [{epoch+1}/{num_epochs}], Train Loss: {train_loss:.4f}, Train IoU: {train_iou:.4f}, Train Dice: {train_dice:.4f}, Val Loss: {val_loss:.4f}, Val IoU: {val_iou:.4f}, Val Dice: {val_dice:.4f}\")\n",
    "\n",
    "#     return train_losses, val_losses, train_ious, val_ious, train_dices, val_dices\n",
    "\n",
    "\n",
    "# def evaluate_model(model, val_loader, criterion):\n",
    "#     model.eval()\n",
    "#     val_loss = 0.0\n",
    "#     val_iou = 0.0\n",
    "#     val_dice = 0.0\n",
    "\n",
    "#     with torch.no_grad():\n",
    "#         for data, target in val_loader:\n",
    "#             data, target = data.to(device), target.to(device)\n",
    "#             outputs = model(data)\n",
    "            \n",
    "#             # Resize target to match the size of outputs\n",
    "#             target = target.unsqueeze(1)  # Add a channel dimension\n",
    "#             target = torch.nn.functional.interpolate(target, size=outputs.shape[2:], mode='nearest')\n",
    "            \n",
    "#             loss = criterion(outputs, target)\n",
    "#             val_loss += loss.item() * data.size(0)\n",
    "#             val_iou += compute_iou(outputs, target)\n",
    "#             val_dice += dice_coef_metric(outputs, target)\n",
    "    \n",
    "#     val_loss /= len(val_loader.dataset)\n",
    "#     val_iou /= len(val_loader)\n",
    "#     val_dice /= len(val_loader)\n",
    "    \n",
    "#     return val_loss, val_iou, val_dice\n",
    "\n",
    "\n",
    "\n",
    "# # Tiếp tục với việc định nghĩa các phép biến đổi cho dữ liệu\n",
    "# transform = transforms.Compose([\n",
    "#     transforms.Resize((256, 256)),  # Resize ảnh về kích thước 256x256\n",
    "#     transforms.ToTensor(),  # Chuyển đổi ảnh sang tensor\n",
    "# ])\n",
    "\n",
    "# # Định nghĩa đường dẫn của folder validation\n",
    "# val_folder = '/kaggle/working/validation'\n",
    "# train_folder = '/kaggle/working/train'\n",
    "\n",
    "# # Tạo folder validation nếu chưa tồn tại\n",
    "# create_validation_folder(val_folder)\n",
    "\n",
    "# # Tạo đối tượng Dataset cho tập validation\n",
    "# val_dataset = CustomDataset(val_folder, transform=transform)\n",
    "# train_dataset = CustomDataset(train_folder, transform=transform)\n",
    "\n",
    "# # Định nghĩa DataLoader cho tập validation\n",
    "# val_loader = DataLoader(val_dataset, batch_size=4, shuffle=False)\n",
    "# train_loader = DataLoader(train_dataset, batch_size=4, shuffle=True)\n",
    "\n",
    "# # Định nghĩa mô hình, tối ưu hóa và hàm mất mát\n",
    "# model = LinkNet(in_channels=3, num_classes=1).to(device)\n",
    "# optimizer = torch.optim.Adam(model.parameters(), lr=0.001)\n",
    "# criterion = nn.BCEWithLogitsLoss()\n",
    "\n",
    "# # Huấn luyện mô hình\n",
    "# num_epochs = 10\n",
    "# train_model(model, train_loader, val_loader, optimizer, num_epochs)\n"
   ]
  },
  {
   "cell_type": "code",
   "execution_count": 13,
   "id": "f9bef01a",
   "metadata": {
    "execution": {
     "iopub.execute_input": "2024-03-27T19:27:23.591898Z",
     "iopub.status.busy": "2024-03-27T19:27:23.591660Z",
     "iopub.status.idle": "2024-03-27T19:34:43.931507Z",
     "shell.execute_reply": "2024-03-27T19:34:43.930507Z"
    },
    "papermill": {
     "duration": 440.351749,
     "end_time": "2024-03-27T19:34:43.933920",
     "exception": false,
     "start_time": "2024-03-27T19:27:23.582171",
     "status": "completed"
    },
    "tags": []
   },
   "outputs": [
    {
     "name": "stderr",
     "output_type": "stream",
     "text": [
      "                                                           \r"
     ]
    },
    {
     "name": "stdout",
     "output_type": "stream",
     "text": [
      "Epoch [1/10], Train Loss: 0.1047, Train IoU: 0.9685, Train Dice: 0.0095, Val Loss: 0.0413, Val IoU: 0.9939, Val Dice: 0.0000\n"
     ]
    },
    {
     "name": "stderr",
     "output_type": "stream",
     "text": [
      "                                                           \r"
     ]
    },
    {
     "name": "stdout",
     "output_type": "stream",
     "text": [
      "Epoch [2/10], Train Loss: 0.0210, Train IoU: 0.9929, Train Dice: 0.0000, Val Loss: 0.0098, Val IoU: 0.9953, Val Dice: 0.0000\n"
     ]
    },
    {
     "name": "stderr",
     "output_type": "stream",
     "text": [
      "                                                           \r"
     ]
    },
    {
     "name": "stdout",
     "output_type": "stream",
     "text": [
      "Epoch [3/10], Train Loss: 0.0085, Train IoU: 0.9943, Train Dice: 0.0000, Val Loss: 0.0055, Val IoU: 0.9955, Val Dice: 0.0000\n"
     ]
    },
    {
     "name": "stderr",
     "output_type": "stream",
     "text": [
      "                                                           \r"
     ]
    },
    {
     "name": "stdout",
     "output_type": "stream",
     "text": [
      "Epoch [4/10], Train Loss: 0.0047, Train IoU: 0.9951, Train Dice: 0.0000, Val Loss: 0.0044, Val IoU: 0.9955, Val Dice: 0.0000\n"
     ]
    },
    {
     "name": "stderr",
     "output_type": "stream",
     "text": [
      "                                                           \r"
     ]
    },
    {
     "name": "stdout",
     "output_type": "stream",
     "text": [
      "Epoch [5/10], Train Loss: 0.0034, Train IoU: 0.9952, Train Dice: 0.0000, Val Loss: 0.0030, Val IoU: 0.9959, Val Dice: 0.0000\n"
     ]
    },
    {
     "name": "stderr",
     "output_type": "stream",
     "text": [
      "                                                           \r"
     ]
    },
    {
     "name": "stdout",
     "output_type": "stream",
     "text": [
      "Epoch [6/10], Train Loss: 0.0024, Train IoU: 0.9954, Train Dice: 0.0000, Val Loss: 0.0024, Val IoU: 0.9961, Val Dice: 0.0000\n"
     ]
    },
    {
     "name": "stderr",
     "output_type": "stream",
     "text": [
      "                                                           \r"
     ]
    },
    {
     "name": "stdout",
     "output_type": "stream",
     "text": [
      "Epoch [7/10], Train Loss: 0.0018, Train IoU: 0.9956, Train Dice: 0.0000, Val Loss: 0.0019, Val IoU: 0.9965, Val Dice: 0.0000\n"
     ]
    },
    {
     "name": "stderr",
     "output_type": "stream",
     "text": [
      "                                                           \r"
     ]
    },
    {
     "name": "stdout",
     "output_type": "stream",
     "text": [
      "Epoch [8/10], Train Loss: 0.0015, Train IoU: 0.9960, Train Dice: 0.0000, Val Loss: 0.0019, Val IoU: 0.9963, Val Dice: 0.0000\n"
     ]
    },
    {
     "name": "stderr",
     "output_type": "stream",
     "text": [
      "                                                           \r"
     ]
    },
    {
     "name": "stdout",
     "output_type": "stream",
     "text": [
      "Epoch [9/10], Train Loss: 0.0013, Train IoU: 0.9960, Train Dice: 0.0000, Val Loss: 0.0013, Val IoU: 0.9962, Val Dice: 0.0000\n"
     ]
    },
    {
     "name": "stderr",
     "output_type": "stream",
     "text": [
      "                                                           "
     ]
    },
    {
     "name": "stdout",
     "output_type": "stream",
     "text": [
      "Epoch [10/10], Train Loss: 0.0012, Train IoU: 0.9961, Train Dice: 0.0000, Val Loss: 0.0011, Val IoU: 0.9967, Val Dice: 0.0000\n"
     ]
    },
    {
     "name": "stderr",
     "output_type": "stream",
     "text": [
      "\r"
     ]
    },
    {
     "data": {
      "text/plain": [
       "([0.10466059798099955,\n",
       "  0.02098811965924306,\n",
       "  0.008528776776015025,\n",
       "  0.004692008676862374,\n",
       "  0.0034306845246035544,\n",
       "  0.002360399068165265,\n",
       "  0.0018046686796043985,\n",
       "  0.0015165447448303954,\n",
       "  0.0012836017899719053,\n",
       "  0.0011564649214021495],\n",
       " [0.04126671428481738,\n",
       "  0.009786464522282283,\n",
       "  0.005474483035504818,\n",
       "  0.004401911826183398,\n",
       "  0.0030498371459543707,\n",
       "  0.0023923168890178205,\n",
       "  0.00192250016455849,\n",
       "  0.0018685485779618223,\n",
       "  0.0013328988493109743,\n",
       "  0.0010998610290698708],\n",
       " [0.9685086287313798,\n",
       "  0.9928902631900349,\n",
       "  0.9943259055497217,\n",
       "  0.9951246458975995,\n",
       "  0.9951697519568147,\n",
       "  0.9954202360794192,\n",
       "  0.9956359706941198,\n",
       "  0.9959870703884812,\n",
       "  0.9960248773215247,\n",
       "  0.9960973165074333],\n",
       " [0.9939220190048218,\n",
       "  0.9952623685201009,\n",
       "  0.9954942186673482,\n",
       "  0.995473857720693,\n",
       "  0.9959218780199687,\n",
       "  0.9961464603741964,\n",
       "  0.9965163866678873,\n",
       "  0.9962884982426962,\n",
       "  0.9961922844250997,\n",
       "  0.9967045823733012],\n",
       " [0.009511105349806488, 0.0, 0.0, 0.0, 0.0, 0.0, 0.0, 0.0, 0.0, 0.0],\n",
       " [0.0, 0.0, 0.0, 0.0, 0.0, 0.0, 0.0, 0.0, 0.0, 0.0])"
      ]
     },
     "execution_count": 13,
     "metadata": {},
     "output_type": "execute_result"
    }
   ],
   "source": [
    "import torch\n",
    "from torch.utils.data import Dataset, DataLoader\n",
    "import torch.nn as nn\n",
    "import torchvision.transforms as transforms\n",
    "import os\n",
    "from PIL import Image\n",
    "from tqdm import tqdm\n",
    "\n",
    "# Define the CustomDataset class\n",
    "# class CustomDataset(Dataset):\n",
    "#     def __init__(self, data_folder, transform=None):\n",
    "#         self.data_folder = data_folder\n",
    "#         self.transform = transform\n",
    "#         self.image_list = os.listdir(data_folder)\n",
    "\n",
    "#     def __len__(self):\n",
    "#         return len(self.image_list)\n",
    "\n",
    "#     def __getitem__(self, idx):\n",
    "#         img_name = os.path.join(self.data_folder, self.image_list[idx])\n",
    "#         image = Image.open(img_name).convert('RGB')\n",
    "#         if self.transform:\n",
    "#             image = self.transform(image)\n",
    "#         return image\n",
    "\n",
    "# Define the generate_target function\n",
    "def generate_target(data):\n",
    "    batch_size, _, height, width = data.size()\n",
    "    target = torch.randint(2, (batch_size, 1, height, width), dtype=torch.float32)\n",
    "    return target\n",
    "\n",
    "# Define the train_model function\n",
    "# Define the train_model function\n",
    "def train_model(model, train_loader, val_loader, optimizer, num_epochs):\n",
    "    train_losses = []\n",
    "    val_losses = []\n",
    "    train_ious = []\n",
    "    val_ious = []\n",
    "    train_dices = []\n",
    "    val_dices = []\n",
    "\n",
    "    criterion = nn.BCEWithLogitsLoss()\n",
    "\n",
    "    for epoch in range(num_epochs):\n",
    "        model.train()\n",
    "        train_loss = 0.0\n",
    "        train_iou = 0.0\n",
    "        train_dice = 0.0\n",
    "\n",
    "        for batch_idx, (data, target) in enumerate(tqdm(train_loader, desc=f'Epoch {epoch+1}/{num_epochs}', leave=False)):\n",
    "            data, target = data.to(device), target.to(device)\n",
    "            optimizer.zero_grad()\n",
    "            outputs = model(data)\n",
    "            loss = criterion(outputs, target)\n",
    "            train_loss += loss.item() * data.size(0)\n",
    "            iou = compute_iou(outputs, target)\n",
    "            dice = dice_coef_metric(outputs, target)\n",
    "            train_iou += iou\n",
    "            train_dice += dice\n",
    "            loss.backward()\n",
    "            optimizer.step()\n",
    "\n",
    "        train_loss /= len(train_loader.dataset)\n",
    "        train_iou /= len(train_loader)\n",
    "        train_dice /= len(train_loader)\n",
    "        train_losses.append(train_loss)\n",
    "        train_ious.append(train_iou)\n",
    "        train_dices.append(train_dice)\n",
    "\n",
    "        val_loss, val_iou, val_dice = evaluate_model(model, val_loader, criterion)\n",
    "        val_losses.append(val_loss)\n",
    "        val_ious.append(val_iou)\n",
    "        val_dices.append(val_dice)\n",
    "\n",
    "        print(f\"Epoch [{epoch+1}/{num_epochs}], Train Loss: {train_loss:.4f}, Train IoU: {train_iou:.4f}, Train Dice: {train_dice:.4f}, Val Loss: {val_loss:.4f}, Val IoU: {val_iou:.4f}, Val Dice: {val_dice:.4f}\")\n",
    "\n",
    "    return train_losses, val_losses, train_ious, val_ious, train_dices, val_dices\n",
    "\n",
    "# Define other necessary functions and variables here\n",
    "def evaluate_model(model, data_loader, criterion):\n",
    "    model.eval()\n",
    "    val_loss = 0.0\n",
    "    val_iou = 0.0\n",
    "    val_dice = 0.0\n",
    "\n",
    "    with torch.no_grad():\n",
    "        for data, target in tqdm(data_loader, desc='Validation', leave=False):\n",
    "            data, target = data.to(device), target.to(device)\n",
    "            outputs = model(data)\n",
    "            loss = criterion(outputs, target)\n",
    "            val_loss += loss.item() * data.size(0)\n",
    "            iou = compute_iou(outputs, target)\n",
    "            dice = dice_coef_metric(outputs, target)\n",
    "            val_iou += iou\n",
    "            val_dice += dice\n",
    "\n",
    "    val_loss /= len(data_loader.dataset)\n",
    "    val_iou /= len(data_loader)\n",
    "    val_dice /= len(data_loader)\n",
    "\n",
    "    return val_loss, val_iou, val_dice\n",
    "\n",
    "# Define the device for training\n",
    "device = torch.device(\"cuda\" if torch.cuda.is_available() else \"cpu\")\n",
    "\n",
    "# Define the folder paths\n",
    "train_folder = '/kaggle/working/train'\n",
    "validation_folder = '/kaggle/working/validation'\n",
    "\n",
    "# Clean the data in train and validation folders\n",
    "def clean_data(dataset_folder):\n",
    "    # Xác định và loại bỏ các tập tin không cần thiết\n",
    "    for root, dirs, files in os.walk(dataset_folder):\n",
    "        for file in files:\n",
    "            file_path = os.path.join(root, file)\n",
    "            # Kiểm tra và loại bỏ các tập tin không phải định dạng hình ảnh\n",
    "            if not file.endswith(('.jpg', '.png', '.jpeg')):\n",
    "                os.remove(file_path)\n",
    "                print(f\"Removed: {file_path}\")\n",
    "\n",
    "clean_data(train_folder)\n",
    "clean_data(validation_folder)\n",
    "\n",
    "# Prepare DataLoader for train and validation sets\n",
    "def prepare_dataloader(dataset_folder, batch_size=4, shuffle=True):\n",
    "    transform = transforms.Compose([\n",
    "        transforms.Resize((256, 256)),  # Resize ảnh về kích thước 256x256\n",
    "        transforms.ToTensor(),  # Chuyển đổi ảnh sang tensor\n",
    "    ])\n",
    "\n",
    "    dataset = CustomDataset(dataset_folder, transform=transform)\n",
    "    data_loader = DataLoader(dataset, batch_size=batch_size, shuffle=shuffle)\n",
    "\n",
    "    return data_loader\n",
    "\n",
    "# Prepare DataLoader for train and validation sets\n",
    "train_loader = prepare_dataloader(train_folder)\n",
    "val_loader = prepare_dataloader(validation_folder)\n",
    "\n",
    "# Define the model, optimizer, and loss function\n",
    "model = LinkNet(in_channels=3, num_classes=1).to(device)\n",
    "optimizer = torch.optim.Adam(model.parameters(), lr=0.001)\n",
    "\n",
    "# Train the model\n",
    "num_epochs = 10\n",
    "train_model(model, train_loader, val_loader, optimizer, num_epochs)\n"
   ]
  },
  {
   "cell_type": "markdown",
   "id": "8b206f80",
   "metadata": {
    "papermill": {
     "duration": 0.073764,
     "end_time": "2024-03-27T19:34:44.087272",
     "exception": false,
     "start_time": "2024-03-27T19:34:44.013508",
     "status": "completed"
    },
    "tags": []
   },
   "source": [
    "# Định nghĩa rate scheduler"
   ]
  },
  {
   "cell_type": "code",
   "execution_count": 14,
   "id": "901c9f42",
   "metadata": {
    "execution": {
     "iopub.execute_input": "2024-03-27T19:34:44.247949Z",
     "iopub.status.busy": "2024-03-27T19:34:44.247578Z",
     "iopub.status.idle": "2024-03-27T19:34:44.253310Z",
     "shell.execute_reply": "2024-03-27T19:34:44.252409Z"
    },
    "papermill": {
     "duration": 0.092105,
     "end_time": "2024-03-27T19:34:44.255146",
     "exception": false,
     "start_time": "2024-03-27T19:34:44.163041",
     "status": "completed"
    },
    "tags": []
   },
   "outputs": [],
   "source": [
    "# Define the learning rate scheduler\n",
    "def warmup_lr_scheduler(optimizer, warmup_iters, warmup_factor):\n",
    "    def f(x):\n",
    "        if x >= warmup_iters:\n",
    "            return 1\n",
    "        alpha = float(x) / warmup_iters\n",
    "        return warmup_factor * (1 - alpha) + alpha\n",
    "\n",
    "    return torch.optim.lr_scheduler.LambdaLR(optimizer, f)"
   ]
  },
  {
   "cell_type": "markdown",
   "id": "1a89ad10",
   "metadata": {
    "papermill": {
     "duration": 0.073639,
     "end_time": "2024-03-27T19:34:44.403274",
     "exception": false,
     "start_time": "2024-03-27T19:34:44.329635",
     "status": "completed"
    },
    "tags": []
   },
   "source": [
    "# Biểu đồ Accuracy"
   ]
  },
  {
   "cell_type": "code",
   "execution_count": 15,
   "id": "82a17474",
   "metadata": {
    "execution": {
     "iopub.execute_input": "2024-03-27T19:34:44.555476Z",
     "iopub.status.busy": "2024-03-27T19:34:44.554630Z",
     "iopub.status.idle": "2024-03-27T19:42:09.804780Z",
     "shell.execute_reply": "2024-03-27T19:42:09.803636Z"
    },
    "papermill": {
     "duration": 445.328371,
     "end_time": "2024-03-27T19:42:09.807534",
     "exception": false,
     "start_time": "2024-03-27T19:34:44.479163",
     "status": "completed"
    },
    "tags": []
   },
   "outputs": [
    {
     "name": "stderr",
     "output_type": "stream",
     "text": [
      "                                                           \r"
     ]
    },
    {
     "name": "stdout",
     "output_type": "stream",
     "text": [
      "Epoch [1/10], Train Loss: 0.0010, Train IoU: 0.9962, Train Dice: 0.0000, Val Loss: 0.0011, Val IoU: 0.9963, Val Dice: 0.0000\n"
     ]
    },
    {
     "name": "stderr",
     "output_type": "stream",
     "text": [
      "                                                           \r"
     ]
    },
    {
     "name": "stdout",
     "output_type": "stream",
     "text": [
      "Epoch [2/10], Train Loss: 0.0009, Train IoU: 0.9962, Train Dice: 0.0000, Val Loss: 0.0010, Val IoU: 0.9962, Val Dice: 0.0000\n"
     ]
    },
    {
     "name": "stderr",
     "output_type": "stream",
     "text": [
      "                                                           \r"
     ]
    },
    {
     "name": "stdout",
     "output_type": "stream",
     "text": [
      "Epoch [3/10], Train Loss: 0.0008, Train IoU: 0.9963, Train Dice: 0.0000, Val Loss: 0.0009, Val IoU: 0.9968, Val Dice: 0.0000\n"
     ]
    },
    {
     "name": "stderr",
     "output_type": "stream",
     "text": [
      "                                                           \r"
     ]
    },
    {
     "name": "stdout",
     "output_type": "stream",
     "text": [
      "Epoch [4/10], Train Loss: 0.0008, Train IoU: 0.9964, Train Dice: 0.0000, Val Loss: 0.0009, Val IoU: 0.9963, Val Dice: 0.0000\n"
     ]
    },
    {
     "name": "stderr",
     "output_type": "stream",
     "text": [
      "                                                           \r"
     ]
    },
    {
     "name": "stdout",
     "output_type": "stream",
     "text": [
      "Epoch [5/10], Train Loss: 0.0007, Train IoU: 0.9965, Train Dice: 0.0000, Val Loss: 0.0008, Val IoU: 0.9964, Val Dice: 0.0000\n"
     ]
    },
    {
     "name": "stderr",
     "output_type": "stream",
     "text": [
      "                                                           \r"
     ]
    },
    {
     "name": "stdout",
     "output_type": "stream",
     "text": [
      "Epoch [6/10], Train Loss: 0.0007, Train IoU: 0.9963, Train Dice: 0.0000, Val Loss: 0.0008, Val IoU: 0.9964, Val Dice: 0.0000\n"
     ]
    },
    {
     "name": "stderr",
     "output_type": "stream",
     "text": [
      "                                                           \r"
     ]
    },
    {
     "name": "stdout",
     "output_type": "stream",
     "text": [
      "Epoch [7/10], Train Loss: 0.0007, Train IoU: 0.9963, Train Dice: 0.0000, Val Loss: 0.0007, Val IoU: 0.9965, Val Dice: 0.0000\n"
     ]
    },
    {
     "name": "stderr",
     "output_type": "stream",
     "text": [
      "                                                           \r"
     ]
    },
    {
     "name": "stdout",
     "output_type": "stream",
     "text": [
      "Epoch [8/10], Train Loss: 0.0006, Train IoU: 0.9964, Train Dice: 0.0000, Val Loss: 0.0007, Val IoU: 0.9969, Val Dice: 0.0000\n"
     ]
    },
    {
     "name": "stderr",
     "output_type": "stream",
     "text": [
      "                                                           \r"
     ]
    },
    {
     "name": "stdout",
     "output_type": "stream",
     "text": [
      "Epoch [9/10], Train Loss: 0.0006, Train IoU: 0.9964, Train Dice: 0.0000, Val Loss: 0.0006, Val IoU: 0.9965, Val Dice: 0.0000\n"
     ]
    },
    {
     "name": "stderr",
     "output_type": "stream",
     "text": [
      "                                                           \r"
     ]
    },
    {
     "name": "stdout",
     "output_type": "stream",
     "text": [
      "Epoch [10/10], Train Loss: 0.0006, Train IoU: 0.9968, Train Dice: 0.0000, Val Loss: 0.0006, Val IoU: 0.9970, Val Dice: 0.0000\n"
     ]
    },
    {
     "data": {
      "image/png": "[encoded data removed]",
      "text/plain": [
       "<Figure size 1500x500 with 3 Axes>"
      ]
     },
     "metadata": {},
     "output_type": "display_data"
    }
   ],
   "source": [
    "# # Hàm vẽ biểu đồ loss và accuracy\n",
    "# def plot_loss_accuracy(train_losses, val_losses, train_accuracies, val_accuracies):\n",
    "#     epochs = range(1, len(train_losses) + 1)\n",
    "\n",
    "#     plt.figure(figsize=(10, 5))\n",
    "#     plt.subplot(1, 2, 1)\n",
    "#     plt.plot(epochs, train_losses, label='Train')\n",
    "#     plt.plot(epochs, val_losses, label='Validation')\n",
    "#     plt.title('Loss over epochs')\n",
    "#     plt.xlabel('Epochs')\n",
    "#     plt.ylabel('Loss')\n",
    "#     plt.legend()\n",
    "\n",
    "#     plt.subplot(1, 2, 2)\n",
    "#     plt.plot(epochs, train_accuracies, label='Train')\n",
    "#     plt.plot(epochs, val_accuracies, label='Validation')\n",
    "#     plt.title('Accuracy over epochs')\n",
    "#     plt.xlabel('Epochs')\n",
    "#     plt.ylabel('Accuracy')\n",
    "#     plt.legend()\n",
    "\n",
    "#     plt.tight_layout()\n",
    "#     plt.show()\n",
    "\n",
    "# # Gọi hàm huấn luyện mô hình và thu thập dữ liệu\n",
    "# train_losses, val_losses, train_accuracies, val_accuracies = train_model(model, train_loader, val_loader, criterion, optimizer, num_epochs)\n",
    "\n",
    "# # Vẽ biểu đồ loss và accuracy sau khi đã huấn luyện xong\n",
    "# plot_loss_accuracy(train_losses, val_losses, train_accuracies, val_accuracies)\n",
    "\n",
    "import matplotlib.pyplot as plt\n",
    "\n",
    "# Hàm vẽ biểu đồ loss và accuracy\n",
    "def plot_loss_accuracy(train_losses, val_losses, train_ious, val_ious, train_dices, val_dices):\n",
    "    epochs = range(1, len(train_losses) + 1)\n",
    "\n",
    "    plt.figure(figsize=(15, 5))\n",
    "\n",
    "    # Biểu đồ loss\n",
    "    plt.subplot(1, 3, 1)\n",
    "    plt.plot(epochs, train_losses, label='Train')\n",
    "    plt.plot(epochs, val_losses, label='Validation')\n",
    "    plt.title('Loss over epochs')\n",
    "    plt.xlabel('Epochs')\n",
    "    plt.ylabel('Loss')\n",
    "    plt.legend()\n",
    "\n",
    "    # Biểu đồ IoU\n",
    "    plt.subplot(1, 3, 2)\n",
    "    plt.plot(epochs, train_ious, label='Train')\n",
    "    plt.plot(epochs, val_ious, label='Validation')\n",
    "    plt.title('IoU over epochs')\n",
    "    plt.xlabel('Epochs')\n",
    "    plt.ylabel('IoU')\n",
    "    plt.legend()\n",
    "\n",
    "    # Biểu đồ Dice coefficient\n",
    "    plt.subplot(1, 3, 3)\n",
    "    plt.plot(epochs, train_dices, label='Train')\n",
    "    plt.plot(epochs, val_dices, label='Validation')\n",
    "    plt.title('Dice coefficient over epochs')\n",
    "    plt.xlabel('Epochs')\n",
    "    plt.ylabel('Dice coefficient')\n",
    "    plt.legend()\n",
    "\n",
    "    plt.tight_layout()\n",
    "    plt.show()\n",
    "\n",
    "# Gọi hàm huấn luyện mô hình và thu thập dữ liệu\n",
    "train_losses, val_losses, train_ious, val_ious, train_dices, val_dices = train_model(model, train_loader, val_loader, optimizer, num_epochs)\n",
    "\n",
    "# Vẽ biểu đồ loss và accuracy sau khi đã huấn luyện xong\n",
    "plot_loss_accuracy(train_losses, val_losses, train_ious, val_ious, train_dices, val_dices)\n"
   ]
  }
 ],
 "metadata": {
  "kaggle": {
   "accelerator": "nvidiaTeslaT4",
   "dataSources": [
    {
     "datasetId": 4681466,
     "sourceId": 7958599,
     "sourceType": "datasetVersion"
    }
   ],
   "dockerImageVersionId": 30674,
   "isGpuEnabled": true,
   "isInternetEnabled": true,
   "language": "python",
   "sourceType": "notebook"
  },
  "kernelspec": {
   "display_name": "Python 3",
   "language": "python",
   "name": "python3"
  },
  "language_info": {
   "codemirror_mode": {
    "name": "ipython",
    "version": 3
   },
   "file_extension": ".py",
   "mimetype": "text/x-python",
   "name": "python",
   "nbconvert_exporter": "python",
   "pygments_lexer": "ipython3",
   "version": "3.10.13"
  },
  "papermill": {
   "default_parameters": {},
   "duration": 920.535156,
   "end_time": "2024-03-27T19:42:12.451546",
   "environment_variables": {},
   "exception": null,
   "input_path": "__notebook__.ipynb",
   "output_path": "__notebook__.ipynb",
   "parameters": {},
   "start_time": "2024-03-27T19:26:51.916390",
   "version": "2.5.0"
  }
 },
 "nbformat": 4,
 "nbformat_minor": 5
}
